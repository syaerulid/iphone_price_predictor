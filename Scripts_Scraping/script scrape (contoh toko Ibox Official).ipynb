{
 "cells": [
  {
   "cell_type": "code",
   "execution_count": 1,
   "id": "36801c24",
   "metadata": {},
   "outputs": [],
   "source": [
    "from selenium import webdriver\n",
    "from bs4 import BeautifulSoup\n",
    "import requests as re\n",
    "from selenium.webdriver.support.ui import WebDriverWait\n",
    "from selenium.common.exceptions import TimeoutException\n",
    "from selenium.webdriver.common.by import By\n",
    "from selenium.webdriver.support import expected_conditions as EC\n",
    "import pandas as pd\n",
    "import requests\n",
    "import pickle\n",
    "import time\n",
    "import json"
   ]
  },
  {
   "cell_type": "markdown",
   "id": "0a02a0b9",
   "metadata": {},
   "source": [
    "# Login from Cookies"
   ]
  },
  {
   "cell_type": "code",
   "execution_count": 2,
   "id": "3bc50d4b",
   "metadata": {},
   "outputs": [],
   "source": [
    "base_url = \"https://shopee.co.id/mall/search?keyword\"\n",
    "keyword = \"=apple%20iphone\"\n",
    "page_number = 0\n",
    "shop_id = 255563049"
   ]
  },
  {
   "cell_type": "code",
   "execution_count": 3,
   "id": "0e2d047e",
   "metadata": {},
   "outputs": [],
   "source": [
    "url = f\"{base_url}{keyword}&page={page_number}&pdpL3Category=0&shop={shop_id}\""
   ]
  },
  {
   "cell_type": "code",
   "execution_count": 4,
   "id": "a0625da4",
   "metadata": {},
   "outputs": [],
   "source": [
    "driver = webdriver.Chrome()\n",
    "driver.get(url)"
   ]
  },
  {
   "cell_type": "code",
   "execution_count": 5,
   "id": "b25dd432",
   "metadata": {},
   "outputs": [],
   "source": [
    "# Load saved session cookies from file using pickle\n",
    "with open('shopee_log.pkl', 'rb') as f:\n",
    "    session_cookies = pickle.load(f)"
   ]
  },
  {
   "cell_type": "code",
   "execution_count": 6,
   "id": "c0d109f3",
   "metadata": {},
   "outputs": [],
   "source": [
    "# Add the loaded session cookies to the WebDriver instance\n",
    "for cookie in session_cookies:\n",
    "    driver.add_cookie(cookie)"
   ]
  },
  {
   "cell_type": "code",
   "execution_count": 7,
   "id": "afdebaad",
   "metadata": {},
   "outputs": [],
   "source": [
    "driver.get(url)"
   ]
  },
  {
   "cell_type": "code",
   "execution_count": 8,
   "id": "9788c08d",
   "metadata": {},
   "outputs": [],
   "source": [
    "container = driver.find_element(By.CLASS_NAME, 'shopee-search-item-result__items')"
   ]
  },
  {
   "cell_type": "code",
   "execution_count": 9,
   "id": "4fd4f7e8",
   "metadata": {},
   "outputs": [
    {
     "data": {
      "text/plain": [
       "<selenium.webdriver.remote.webelement.WebElement (session=\"508a118a4c99757eb240d33228a39edb\", element=\"947D0E1E0224D642E3FC9155CAEEAA01_element_171\")>"
      ]
     },
     "execution_count": 9,
     "metadata": {},
     "output_type": "execute_result"
    }
   ],
   "source": [
    "container"
   ]
  },
  {
   "cell_type": "code",
   "execution_count": 10,
   "id": "757c35ce",
   "metadata": {},
   "outputs": [],
   "source": [
    "scroll = 'window.scrollTo(0, document.body.scrollHeight);'\n",
    "scroll_page = 'window.scrollTo(0, 1080)'\n",
    "title_class = 'ie3A+n bM+7UW Cve6sh'\n",
    "ori_class = 'vioxXd ZZuLsr d5DWld'\n",
    "discount_class = 'ZEgDH9'\n",
    "sell_class = 'r6HknA uEPGHT'\n",
    "sell_class_2 = 'r6HknA'"
   ]
  },
  {
   "cell_type": "code",
   "execution_count": 11,
   "id": "027b26fc",
   "metadata": {},
   "outputs": [],
   "source": [
    "title_iphone, original_prices, discount_prices, sold_count, sold_count_2 = [], [], [], [], []"
   ]
  },
  {
   "cell_type": "code",
   "execution_count": 12,
   "id": "8249158f",
   "metadata": {},
   "outputs": [],
   "source": [
    "driver.execute_script(f\"{scroll_page}\") # scrolling the page\n",
    "time.sleep(2) # give 2 seconds pause before scraping\n",
    "\n",
    "titles = WebDriverWait(container, 60).until(\n",
    "    EC.presence_of_all_elements_located((By.XPATH, f'//div[@class=\"{title_class}\"]'))\n",
    ")\n",
    "    \n",
    "for title in titles:\n",
    "    judul = title.text\n",
    "    title_iphone.append(judul)"
   ]
  },
  {
   "cell_type": "code",
   "execution_count": 13,
   "id": "801e7053",
   "metadata": {},
   "outputs": [
    {
     "data": {
      "text/plain": [
       "60"
      ]
     },
     "execution_count": 13,
     "metadata": {},
     "output_type": "execute_result"
    }
   ],
   "source": [
    "len(title_iphone)"
   ]
  },
  {
   "cell_type": "code",
   "execution_count": 17,
   "id": "1bd27137",
   "metadata": {},
   "outputs": [],
   "source": [
    "ori_prices_2 = [0] * 18"
   ]
  },
  {
   "cell_type": "code",
   "execution_count": 15,
   "id": "14f6edcf",
   "metadata": {},
   "outputs": [],
   "source": [
    "driver.execute_script(f\"{scroll_page}\") # scrolling the page\n",
    "time.sleep(2) # give 2 seconds pause before scraping\n",
    "\n",
    "#prices original\n",
    "ori_prices = driver.find_elements(By.XPATH, f'//div [@class=\"{ori_class}\"]')\n",
    "for ori in ori_prices:\n",
    "    harga = ori.text\n",
    "    original_prices.append(harga)"
   ]
  },
  {
   "cell_type": "code",
   "execution_count": 16,
   "id": "8cbc2ba9",
   "metadata": {},
   "outputs": [
    {
     "data": {
      "text/plain": [
       "42"
      ]
     },
     "execution_count": 16,
     "metadata": {},
     "output_type": "execute_result"
    }
   ],
   "source": [
    "len(original_prices)"
   ]
  },
  {
   "cell_type": "code",
   "execution_count": 18,
   "id": "e487f7a0",
   "metadata": {},
   "outputs": [],
   "source": [
    "concat_ori_prices = original_prices + ori_prices_2"
   ]
  },
  {
   "cell_type": "code",
   "execution_count": 19,
   "id": "9781361f",
   "metadata": {},
   "outputs": [
    {
     "data": {
      "text/plain": [
       "60"
      ]
     },
     "execution_count": 19,
     "metadata": {},
     "output_type": "execute_result"
    }
   ],
   "source": [
    "len(concat_ori_prices)"
   ]
  },
  {
   "cell_type": "code",
   "execution_count": 20,
   "id": "4bbce7f5",
   "metadata": {},
   "outputs": [],
   "source": [
    "driver.execute_script(f\"{scroll_page}\") # scrolling the page\n",
    "time.sleep(2) # give 2 seconds pause before scraping\n",
    "dis_prices = container.find_elements(By.XPATH, f'//span [@class=\"{discount_class}\"]')\n",
    "\n",
    "for dis in dis_prices:\n",
    "    discount = dis.text\n",
    "    discount_prices.append(discount)"
   ]
  },
  {
   "cell_type": "code",
   "execution_count": 21,
   "id": "5d454336",
   "metadata": {},
   "outputs": [
    {
     "data": {
      "text/plain": [
       "60"
      ]
     },
     "execution_count": 21,
     "metadata": {},
     "output_type": "execute_result"
    }
   ],
   "source": [
    "len(discount_prices)"
   ]
  },
  {
   "cell_type": "code",
   "execution_count": 22,
   "id": "14e6e57e",
   "metadata": {},
   "outputs": [],
   "source": [
    "driver.execute_script(f\"{scroll_page}\") # scrolling the page\n",
    "time.sleep(2) # give 2 seconds pause before scraping\n",
    "\n",
    "sold_product = container.find_elements(By.XPATH, f'//div [@class=\"{sell_class}\"]')\n",
    "\n",
    "for sold in sold_product:\n",
    "    terjual = sold.text\n",
    "    if terjual is None or terjual == \"\":\n",
    "        terjual = \"N/A\"\n",
    "    sold_count.append(terjual)"
   ]
  },
  {
   "cell_type": "code",
   "execution_count": 23,
   "id": "8aa81f30",
   "metadata": {},
   "outputs": [
    {
     "data": {
      "text/plain": [
       "53"
      ]
     },
     "execution_count": 23,
     "metadata": {},
     "output_type": "execute_result"
    }
   ],
   "source": [
    "len(sold_count)"
   ]
  },
  {
   "cell_type": "code",
   "execution_count": 24,
   "id": "22120a49",
   "metadata": {},
   "outputs": [],
   "source": [
    "driver.execute_script(f\"{scroll_page}\") # scrolling the page\n",
    "time.sleep(2) # give 2 seconds pause before scraping\n",
    "\n",
    "sold_product_2 = container.find_elements(By.XPATH, f'//div [@class=\"{sell_class_2}\"]')\n",
    "\n",
    "for sold in sold_product_2:\n",
    "    terjual = sold.text\n",
    "    if terjual is None or terjual == \"\":\n",
    "        terjual = \"N/A\"\n",
    "    sold_count_2.append(terjual)"
   ]
  },
  {
   "cell_type": "code",
   "execution_count": 25,
   "id": "f41567a3",
   "metadata": {},
   "outputs": [
    {
     "data": {
      "text/plain": [
       "7"
      ]
     },
     "execution_count": 25,
     "metadata": {},
     "output_type": "execute_result"
    }
   ],
   "source": [
    "len(sold_count_2)"
   ]
  },
  {
   "cell_type": "code",
   "execution_count": 26,
   "id": "ed891caa",
   "metadata": {},
   "outputs": [],
   "source": [
    "combined_sold_count = sold_count + sold_count_2"
   ]
  },
  {
   "cell_type": "code",
   "execution_count": 27,
   "id": "8b15e5fe",
   "metadata": {},
   "outputs": [
    {
     "data": {
      "text/plain": [
       "60"
      ]
     },
     "execution_count": 27,
     "metadata": {},
     "output_type": "execute_result"
    }
   ],
   "source": [
    "len(combined_sold_count)"
   ]
  },
  {
   "cell_type": "code",
   "execution_count": 28,
   "id": "db478dbd",
   "metadata": {},
   "outputs": [
    {
     "data": {
      "text/plain": [
       "60"
      ]
     },
     "execution_count": 28,
     "metadata": {},
     "output_type": "execute_result"
    }
   ],
   "source": [
    "len(title_iphone)"
   ]
  },
  {
   "cell_type": "code",
   "execution_count": 29,
   "id": "10ce6c53",
   "metadata": {},
   "outputs": [
    {
     "data": {
      "text/plain": [
       "60"
      ]
     },
     "execution_count": 29,
     "metadata": {},
     "output_type": "execute_result"
    }
   ],
   "source": [
    "len(concat_ori_prices)"
   ]
  },
  {
   "cell_type": "code",
   "execution_count": 30,
   "id": "2043c94d",
   "metadata": {},
   "outputs": [
    {
     "data": {
      "text/plain": [
       "60"
      ]
     },
     "execution_count": 30,
     "metadata": {},
     "output_type": "execute_result"
    }
   ],
   "source": [
    "len(discount_prices)"
   ]
  },
  {
   "cell_type": "code",
   "execution_count": 31,
   "id": "fbcf4bd1",
   "metadata": {},
   "outputs": [],
   "source": [
    "list_kolom = ['title_iphone', 'concat_ori_prices', 'discount_prices', 'combined_sold_count']"
   ]
  },
  {
   "cell_type": "code",
   "execution_count": 32,
   "id": "1b4fb963",
   "metadata": {},
   "outputs": [],
   "source": [
    "dict_data = dict(zip(list_kolom,\n",
    "                    (title_iphone,\n",
    "                    concat_ori_prices,\n",
    "                    discount_prices,\n",
    "                    combined_sold_count)))"
   ]
  },
  {
   "cell_type": "code",
   "execution_count": 33,
   "id": "31a12926",
   "metadata": {},
   "outputs": [
    {
     "data": {
      "text/plain": [
       "dict"
      ]
     },
     "execution_count": 33,
     "metadata": {},
     "output_type": "execute_result"
    }
   ],
   "source": [
    "type(dict_data)"
   ]
  },
  {
   "cell_type": "code",
   "execution_count": 34,
   "id": "5ae90c88",
   "metadata": {},
   "outputs": [],
   "source": [
    "df = pd.DataFrame(dict_data)"
   ]
  },
  {
   "cell_type": "code",
   "execution_count": 35,
   "id": "006f3012",
   "metadata": {},
   "outputs": [
    {
     "data": {
      "text/html": [
       "<div>\n",
       "<style scoped>\n",
       "    .dataframe tbody tr th:only-of-type {\n",
       "        vertical-align: middle;\n",
       "    }\n",
       "\n",
       "    .dataframe tbody tr th {\n",
       "        vertical-align: top;\n",
       "    }\n",
       "\n",
       "    .dataframe thead th {\n",
       "        text-align: right;\n",
       "    }\n",
       "</style>\n",
       "<table border=\"1\" class=\"dataframe\">\n",
       "  <thead>\n",
       "    <tr style=\"text-align: right;\">\n",
       "      <th></th>\n",
       "      <th>title_iphone</th>\n",
       "      <th>concat_ori_prices</th>\n",
       "      <th>discount_prices</th>\n",
       "      <th>combined_sold_count</th>\n",
       "    </tr>\n",
       "  </thead>\n",
       "  <tbody>\n",
       "    <tr>\n",
       "      <th>0</th>\n",
       "      <td>Apple iPhone 14 512GB, Midnight</td>\n",
       "      <td>Rp22.999.000</td>\n",
       "      <td>20.799.000</td>\n",
       "      <td>4 Terjual</td>\n",
       "    </tr>\n",
       "    <tr>\n",
       "      <th>1</th>\n",
       "      <td>Apple iPhone 14 512GB, Blue</td>\n",
       "      <td>Rp22.999.000</td>\n",
       "      <td>20.799.000</td>\n",
       "      <td>360 Terjual</td>\n",
       "    </tr>\n",
       "    <tr>\n",
       "      <th>2</th>\n",
       "      <td>Apple iPhone 14 512GB, (PRODUCT) RED</td>\n",
       "      <td>Rp22.999.000</td>\n",
       "      <td>20.799.000</td>\n",
       "      <td>401 Terjual</td>\n",
       "    </tr>\n",
       "    <tr>\n",
       "      <th>3</th>\n",
       "      <td>Apple iPhone 12 128GB, Purple</td>\n",
       "      <td>Rp999.000</td>\n",
       "      <td>12.999.000</td>\n",
       "      <td>30 Terjual</td>\n",
       "    </tr>\n",
       "    <tr>\n",
       "      <th>4</th>\n",
       "      <td>Apple iPhone 14 Pro Max Clear Case with MagSafe</td>\n",
       "      <td>Rp999.000</td>\n",
       "      <td>899.000</td>\n",
       "      <td>150 Terjual</td>\n",
       "    </tr>\n",
       "    <tr>\n",
       "      <th>5</th>\n",
       "      <td>Apple iPhone 14 Clear Case with MagSafe</td>\n",
       "      <td>Rp999.000</td>\n",
       "      <td>899.000</td>\n",
       "      <td>31 Terjual</td>\n",
       "    </tr>\n",
       "    <tr>\n",
       "      <th>6</th>\n",
       "      <td>Apple iPhone 14 Pro Clear Case with MagSafe</td>\n",
       "      <td>Rp1.299.000</td>\n",
       "      <td>899.000</td>\n",
       "      <td>30 Terjual</td>\n",
       "    </tr>\n",
       "    <tr>\n",
       "      <th>7</th>\n",
       "      <td>Apple iPhone Leather Wallet with MagSafe, Dark...</td>\n",
       "      <td>Rp999.000</td>\n",
       "      <td>1.199.000</td>\n",
       "      <td>8 Terjual</td>\n",
       "    </tr>\n",
       "    <tr>\n",
       "      <th>8</th>\n",
       "      <td>Apple iPhone 14 Pro Max Silicone Case with Mag...</td>\n",
       "      <td>Rp1.299.000</td>\n",
       "      <td>899.000</td>\n",
       "      <td>52 Terjual</td>\n",
       "    </tr>\n",
       "    <tr>\n",
       "      <th>9</th>\n",
       "      <td>Apple iPhone Leather Wallet with MagSafe, Umber</td>\n",
       "      <td>Rp1.399.000</td>\n",
       "      <td>1.199.000</td>\n",
       "      <td>46 Terjual</td>\n",
       "    </tr>\n",
       "    <tr>\n",
       "      <th>10</th>\n",
       "      <td>Apple iPhone 13 Pro Max Leather Case with MagS...</td>\n",
       "      <td>Rp999.000</td>\n",
       "      <td>1.149.000</td>\n",
       "      <td>25 Terjual</td>\n",
       "    </tr>\n",
       "    <tr>\n",
       "      <th>11</th>\n",
       "      <td>Apple iPhone 14 Pro Max Silicone Case with Mag...</td>\n",
       "      <td>Rp1.299.000</td>\n",
       "      <td>899.000</td>\n",
       "      <td>49 Terjual</td>\n",
       "    </tr>\n",
       "    <tr>\n",
       "      <th>12</th>\n",
       "      <td>Apple iPhone Leather Wallet with MagSafe, Ink</td>\n",
       "      <td>Rp999.000</td>\n",
       "      <td>1.199.000</td>\n",
       "      <td>12 Terjual</td>\n",
       "    </tr>\n",
       "    <tr>\n",
       "      <th>13</th>\n",
       "      <td>UAG Apple iPhone 11 Pro Max (6.5INCH) Plyo - Ice</td>\n",
       "      <td>Rp1.399.000</td>\n",
       "      <td>599.000</td>\n",
       "      <td>61 Terjual</td>\n",
       "    </tr>\n",
       "    <tr>\n",
       "      <th>14</th>\n",
       "      <td>Apple iPhone 14 Plus Clear Case with MagSafe</td>\n",
       "      <td>Rp1.349.000</td>\n",
       "      <td>899.000</td>\n",
       "      <td>31 Terjual</td>\n",
       "    </tr>\n",
       "    <tr>\n",
       "      <th>15</th>\n",
       "      <td>UAG Apple iPhone 11 Pro Plasma- Ash</td>\n",
       "      <td>Rp1.299.000</td>\n",
       "      <td>599.000</td>\n",
       "      <td>41 Terjual</td>\n",
       "    </tr>\n",
       "    <tr>\n",
       "      <th>16</th>\n",
       "      <td>Apple iPhone 13 Pro Leather Case with MagSafe,...</td>\n",
       "      <td>Rp1.299.000</td>\n",
       "      <td>1.149.000</td>\n",
       "      <td>8 Terjual</td>\n",
       "    </tr>\n",
       "    <tr>\n",
       "      <th>17</th>\n",
       "      <td>Apple iPhone 14 Pro Max Leather Case with MagS...</td>\n",
       "      <td>Rp1.399.000</td>\n",
       "      <td>1.199.000</td>\n",
       "      <td>18 Terjual</td>\n",
       "    </tr>\n",
       "    <tr>\n",
       "      <th>18</th>\n",
       "      <td>Kajsa Vintage Collection Genuine Leather iPhon...</td>\n",
       "      <td>Rp1.399.000</td>\n",
       "      <td>169.000</td>\n",
       "      <td>24 Terjual</td>\n",
       "    </tr>\n",
       "    <tr>\n",
       "      <th>19</th>\n",
       "      <td>Kajsa Lance Collection iPhone X Back Case - Grey</td>\n",
       "      <td>Rp1.099.000</td>\n",
       "      <td>169.000</td>\n",
       "      <td>27 Terjual</td>\n",
       "    </tr>\n",
       "    <tr>\n",
       "      <th>20</th>\n",
       "      <td>Apple iPhone Leather Wallet with MagSafe, Wist...</td>\n",
       "      <td>Rp1.349.000</td>\n",
       "      <td>1.199.000</td>\n",
       "      <td>15 Terjual</td>\n",
       "    </tr>\n",
       "    <tr>\n",
       "      <th>21</th>\n",
       "      <td>Apple iPhone Leather Wallet with MagSafe, Gold...</td>\n",
       "      <td>Rp999.000</td>\n",
       "      <td>1.199.000</td>\n",
       "      <td>36 Terjual</td>\n",
       "    </tr>\n",
       "    <tr>\n",
       "      <th>22</th>\n",
       "      <td>Apple iPhone 13 Pro Leather Case with MagSafe,...</td>\n",
       "      <td>Rp999.000</td>\n",
       "      <td>1.149.000</td>\n",
       "      <td>41 Terjual</td>\n",
       "    </tr>\n",
       "    <tr>\n",
       "      <th>23</th>\n",
       "      <td>Apple iPhone 13 Pro Max Leather Case with MagS...</td>\n",
       "      <td>Rp999.000</td>\n",
       "      <td>1.149.000</td>\n",
       "      <td>11 Terjual</td>\n",
       "    </tr>\n",
       "    <tr>\n",
       "      <th>24</th>\n",
       "      <td>Apple iPhone 13 mini Clear Case with MagSafe</td>\n",
       "      <td>Rp999.000</td>\n",
       "      <td>949.000</td>\n",
       "      <td>7 Terjual</td>\n",
       "    </tr>\n",
       "    <tr>\n",
       "      <th>25</th>\n",
       "      <td>Apple iPhone 14 Pro Max Leather Case with MagS...</td>\n",
       "      <td>Rp1.299.000</td>\n",
       "      <td>1.199.000</td>\n",
       "      <td>6 Terjual</td>\n",
       "    </tr>\n",
       "    <tr>\n",
       "      <th>26</th>\n",
       "      <td>Apple iPhone 14 Silicone Case with MagSafe, Mi...</td>\n",
       "      <td>Rp1.399.000</td>\n",
       "      <td>899.000</td>\n",
       "      <td>5 Terjual</td>\n",
       "    </tr>\n",
       "    <tr>\n",
       "      <th>27</th>\n",
       "      <td>Apple iPhone 14 Pro Max Silicone Case with Mag...</td>\n",
       "      <td>Rp1.099.000</td>\n",
       "      <td>899.000</td>\n",
       "      <td>5 Terjual</td>\n",
       "    </tr>\n",
       "    <tr>\n",
       "      <th>28</th>\n",
       "      <td>Apple iPhone 14 Pro Max Silicone Case with Mag...</td>\n",
       "      <td>Rp1.099.000</td>\n",
       "      <td>899.000</td>\n",
       "      <td>9 Terjual</td>\n",
       "    </tr>\n",
       "    <tr>\n",
       "      <th>29</th>\n",
       "      <td>Kajsa Outdoor Collection Wood Pattern iPhone X...</td>\n",
       "      <td>Rp999.000</td>\n",
       "      <td>169.000</td>\n",
       "      <td>4 Terjual</td>\n",
       "    </tr>\n",
       "    <tr>\n",
       "      <th>30</th>\n",
       "      <td>Apple iPhone 14 Plus Silicone Case with MagSaf...</td>\n",
       "      <td>Rp1.399.000</td>\n",
       "      <td>899.000</td>\n",
       "      <td>8 Terjual</td>\n",
       "    </tr>\n",
       "    <tr>\n",
       "      <th>31</th>\n",
       "      <td>Apple iPhone Leather Wallet with MagSafe, Fore...</td>\n",
       "      <td>Rp1.299.000</td>\n",
       "      <td>1.199.000</td>\n",
       "      <td>18 Terjual</td>\n",
       "    </tr>\n",
       "    <tr>\n",
       "      <th>32</th>\n",
       "      <td>Apple iPhone 13 mini Leather Case with MagSafe...</td>\n",
       "      <td>Rp1.399.000</td>\n",
       "      <td>1.149.000</td>\n",
       "      <td>7 Terjual</td>\n",
       "    </tr>\n",
       "    <tr>\n",
       "      <th>33</th>\n",
       "      <td>Apple iPhone 13 Pro Max Silicone Case with Mag...</td>\n",
       "      <td>Rp1.349.000</td>\n",
       "      <td>899.000</td>\n",
       "      <td>6 Terjual</td>\n",
       "    </tr>\n",
       "    <tr>\n",
       "      <th>34</th>\n",
       "      <td>UAG Apple iPhone 11 Pro Max Pathfinder- White</td>\n",
       "      <td>Rp1.399.000</td>\n",
       "      <td>599.000</td>\n",
       "      <td>13 Terjual</td>\n",
       "    </tr>\n",
       "    <tr>\n",
       "      <th>35</th>\n",
       "      <td>Apple iPhone 13 mini Silicone Case with MagSaf...</td>\n",
       "      <td>Rp1.099.000</td>\n",
       "      <td>899.000</td>\n",
       "      <td>20 Terjual</td>\n",
       "    </tr>\n",
       "    <tr>\n",
       "      <th>36</th>\n",
       "      <td>UNIQ Glacier Luxe Kanvas iPhone X - Slate Grey</td>\n",
       "      <td>Rp1.349.000</td>\n",
       "      <td>349.000</td>\n",
       "      <td>3 Terjual</td>\n",
       "    </tr>\n",
       "    <tr>\n",
       "      <th>37</th>\n",
       "      <td>Apple iPhone 14 Pro Max Silicone Case with Mag...</td>\n",
       "      <td>Rp1.099.000</td>\n",
       "      <td>899.000</td>\n",
       "      <td>15 Terjual</td>\n",
       "    </tr>\n",
       "    <tr>\n",
       "      <th>38</th>\n",
       "      <td>Apple iPhone 13 Pro Leather Case with MagSafe,...</td>\n",
       "      <td>Rp1.399.000</td>\n",
       "      <td>1.149.000</td>\n",
       "      <td>11 Terjual</td>\n",
       "    </tr>\n",
       "    <tr>\n",
       "      <th>39</th>\n",
       "      <td>CaseStudi iPhone X - Marble Black</td>\n",
       "      <td>Rp1.099.000</td>\n",
       "      <td>420.000</td>\n",
       "      <td>5 Terjual</td>\n",
       "    </tr>\n",
       "    <tr>\n",
       "      <th>40</th>\n",
       "      <td>Apple iPhone Leather Wallet with MagSafe, Sequ...</td>\n",
       "      <td>Rp999.000</td>\n",
       "      <td>1.199.000</td>\n",
       "      <td>16 Terjual</td>\n",
       "    </tr>\n",
       "    <tr>\n",
       "      <th>41</th>\n",
       "      <td>Apple iPhone 13 mini Leather Case with MagSafe...</td>\n",
       "      <td>Rp1.349.000</td>\n",
       "      <td>1.149.000</td>\n",
       "      <td>5 Terjual</td>\n",
       "    </tr>\n",
       "    <tr>\n",
       "      <th>42</th>\n",
       "      <td>Apple iPhone 14 Leather Case with MagSafe, Mid...</td>\n",
       "      <td>0</td>\n",
       "      <td>1.199.000</td>\n",
       "      <td>9 Terjual</td>\n",
       "    </tr>\n",
       "    <tr>\n",
       "      <th>43</th>\n",
       "      <td>UAG Apple iPhone 11 Pro Pathfinder- Arctic Camo</td>\n",
       "      <td>0</td>\n",
       "      <td>749.000</td>\n",
       "      <td>3 Terjual</td>\n",
       "    </tr>\n",
       "    <tr>\n",
       "      <th>44</th>\n",
       "      <td>Apple iPhone 13 Leather Case with MagSafe, Wis...</td>\n",
       "      <td>0</td>\n",
       "      <td>1.149.000</td>\n",
       "      <td>3 Terjual</td>\n",
       "    </tr>\n",
       "    <tr>\n",
       "      <th>45</th>\n",
       "      <td>Apple iPhone 13 mini Silicone Case with MagSaf...</td>\n",
       "      <td>0</td>\n",
       "      <td>899.000</td>\n",
       "      <td>2 Terjual</td>\n",
       "    </tr>\n",
       "    <tr>\n",
       "      <th>46</th>\n",
       "      <td>Apple iPhone 14 Pro Max Leather Case with MagS...</td>\n",
       "      <td>0</td>\n",
       "      <td>1.199.000</td>\n",
       "      <td>4 Terjual</td>\n",
       "    </tr>\n",
       "    <tr>\n",
       "      <th>47</th>\n",
       "      <td>Apple iPhone 13 mini Silicone Case with MagSaf...</td>\n",
       "      <td>0</td>\n",
       "      <td>899.000</td>\n",
       "      <td>1 Terjual</td>\n",
       "    </tr>\n",
       "    <tr>\n",
       "      <th>48</th>\n",
       "      <td>Apple iPhone 13 Leather Case with MagSafe, Gol...</td>\n",
       "      <td>0</td>\n",
       "      <td>1.149.000</td>\n",
       "      <td>3 Terjual</td>\n",
       "    </tr>\n",
       "    <tr>\n",
       "      <th>49</th>\n",
       "      <td>SwitchEasy Glass iPhone X - White</td>\n",
       "      <td>0</td>\n",
       "      <td>449.000</td>\n",
       "      <td>1 Terjual</td>\n",
       "    </tr>\n",
       "    <tr>\n",
       "      <th>50</th>\n",
       "      <td>CaseStudi iPhone X Case - SQ Black</td>\n",
       "      <td>0</td>\n",
       "      <td>420.000</td>\n",
       "      <td>3 Terjual</td>\n",
       "    </tr>\n",
       "    <tr>\n",
       "      <th>51</th>\n",
       "      <td>Apple iPhone 13 mini Silicone Case with MagSaf...</td>\n",
       "      <td>0</td>\n",
       "      <td>899.000</td>\n",
       "      <td>1 Terjual</td>\n",
       "    </tr>\n",
       "    <tr>\n",
       "      <th>52</th>\n",
       "      <td>Kajsa Lance Collection iPhone X Back Case - Red</td>\n",
       "      <td>0</td>\n",
       "      <td>169.000</td>\n",
       "      <td>1 Terjual</td>\n",
       "    </tr>\n",
       "    <tr>\n",
       "      <th>53</th>\n",
       "      <td>Kajsa Ninja Collection iPhone X Pocket Back Ca...</td>\n",
       "      <td>0</td>\n",
       "      <td>169.000</td>\n",
       "      <td>1 Terjual</td>\n",
       "    </tr>\n",
       "    <tr>\n",
       "      <th>54</th>\n",
       "      <td>Kajsa Ninja Collection iPhone X Pocket Back Ca...</td>\n",
       "      <td>0</td>\n",
       "      <td>169.000</td>\n",
       "      <td>1 Terjual</td>\n",
       "    </tr>\n",
       "    <tr>\n",
       "      <th>55</th>\n",
       "      <td>UNIQ Glacier Frost Xtreme iPhone X - Silver</td>\n",
       "      <td>0</td>\n",
       "      <td>329.000</td>\n",
       "      <td>17 Terjual</td>\n",
       "    </tr>\n",
       "    <tr>\n",
       "      <th>56</th>\n",
       "      <td>Apple iPhone 14 Silicone Case with MagSafe, Ch...</td>\n",
       "      <td>0</td>\n",
       "      <td>899.000</td>\n",
       "      <td>2 Terjual</td>\n",
       "    </tr>\n",
       "    <tr>\n",
       "      <th>57</th>\n",
       "      <td>Kajsa Lance Collection iPhone X Back Case - Olive</td>\n",
       "      <td>0</td>\n",
       "      <td>169.000</td>\n",
       "      <td>N/A</td>\n",
       "    </tr>\n",
       "    <tr>\n",
       "      <th>58</th>\n",
       "      <td>Apple iPhone 14 Plus Leather Case with MagSafe...</td>\n",
       "      <td>0</td>\n",
       "      <td>1.199.000</td>\n",
       "      <td>N/A</td>\n",
       "    </tr>\n",
       "    <tr>\n",
       "      <th>59</th>\n",
       "      <td>SwitchEasy Glass iPhone X - Black</td>\n",
       "      <td>0</td>\n",
       "      <td>449.000</td>\n",
       "      <td>N/A</td>\n",
       "    </tr>\n",
       "  </tbody>\n",
       "</table>\n",
       "</div>"
      ],
      "text/plain": [
       "                                         title_iphone concat_ori_prices  \\\n",
       "0                     Apple iPhone 14 512GB, Midnight      Rp22.999.000   \n",
       "1                         Apple iPhone 14 512GB, Blue      Rp22.999.000   \n",
       "2                Apple iPhone 14 512GB, (PRODUCT) RED      Rp22.999.000   \n",
       "3                       Apple iPhone 12 128GB, Purple         Rp999.000   \n",
       "4     Apple iPhone 14 Pro Max Clear Case with MagSafe         Rp999.000   \n",
       "5             Apple iPhone 14 Clear Case with MagSafe         Rp999.000   \n",
       "6         Apple iPhone 14 Pro Clear Case with MagSafe       Rp1.299.000   \n",
       "7   Apple iPhone Leather Wallet with MagSafe, Dark...         Rp999.000   \n",
       "8   Apple iPhone 14 Pro Max Silicone Case with Mag...       Rp1.299.000   \n",
       "9     Apple iPhone Leather Wallet with MagSafe, Umber       Rp1.399.000   \n",
       "10  Apple iPhone 13 Pro Max Leather Case with MagS...         Rp999.000   \n",
       "11  Apple iPhone 14 Pro Max Silicone Case with Mag...       Rp1.299.000   \n",
       "12      Apple iPhone Leather Wallet with MagSafe, Ink         Rp999.000   \n",
       "13   UAG Apple iPhone 11 Pro Max (6.5INCH) Plyo - Ice       Rp1.399.000   \n",
       "14       Apple iPhone 14 Plus Clear Case with MagSafe       Rp1.349.000   \n",
       "15                UAG Apple iPhone 11 Pro Plasma- Ash       Rp1.299.000   \n",
       "16  Apple iPhone 13 Pro Leather Case with MagSafe,...       Rp1.299.000   \n",
       "17  Apple iPhone 14 Pro Max Leather Case with MagS...       Rp1.399.000   \n",
       "18  Kajsa Vintage Collection Genuine Leather iPhon...       Rp1.399.000   \n",
       "19   Kajsa Lance Collection iPhone X Back Case - Grey       Rp1.099.000   \n",
       "20  Apple iPhone Leather Wallet with MagSafe, Wist...       Rp1.349.000   \n",
       "21  Apple iPhone Leather Wallet with MagSafe, Gold...         Rp999.000   \n",
       "22  Apple iPhone 13 Pro Leather Case with MagSafe,...         Rp999.000   \n",
       "23  Apple iPhone 13 Pro Max Leather Case with MagS...         Rp999.000   \n",
       "24       Apple iPhone 13 mini Clear Case with MagSafe         Rp999.000   \n",
       "25  Apple iPhone 14 Pro Max Leather Case with MagS...       Rp1.299.000   \n",
       "26  Apple iPhone 14 Silicone Case with MagSafe, Mi...       Rp1.399.000   \n",
       "27  Apple iPhone 14 Pro Max Silicone Case with Mag...       Rp1.099.000   \n",
       "28  Apple iPhone 14 Pro Max Silicone Case with Mag...       Rp1.099.000   \n",
       "29  Kajsa Outdoor Collection Wood Pattern iPhone X...         Rp999.000   \n",
       "30  Apple iPhone 14 Plus Silicone Case with MagSaf...       Rp1.399.000   \n",
       "31  Apple iPhone Leather Wallet with MagSafe, Fore...       Rp1.299.000   \n",
       "32  Apple iPhone 13 mini Leather Case with MagSafe...       Rp1.399.000   \n",
       "33  Apple iPhone 13 Pro Max Silicone Case with Mag...       Rp1.349.000   \n",
       "34      UAG Apple iPhone 11 Pro Max Pathfinder- White       Rp1.399.000   \n",
       "35  Apple iPhone 13 mini Silicone Case with MagSaf...       Rp1.099.000   \n",
       "36     UNIQ Glacier Luxe Kanvas iPhone X - Slate Grey       Rp1.349.000   \n",
       "37  Apple iPhone 14 Pro Max Silicone Case with Mag...       Rp1.099.000   \n",
       "38  Apple iPhone 13 Pro Leather Case with MagSafe,...       Rp1.399.000   \n",
       "39                  CaseStudi iPhone X - Marble Black       Rp1.099.000   \n",
       "40  Apple iPhone Leather Wallet with MagSafe, Sequ...         Rp999.000   \n",
       "41  Apple iPhone 13 mini Leather Case with MagSafe...       Rp1.349.000   \n",
       "42  Apple iPhone 14 Leather Case with MagSafe, Mid...                 0   \n",
       "43    UAG Apple iPhone 11 Pro Pathfinder- Arctic Camo                 0   \n",
       "44  Apple iPhone 13 Leather Case with MagSafe, Wis...                 0   \n",
       "45  Apple iPhone 13 mini Silicone Case with MagSaf...                 0   \n",
       "46  Apple iPhone 14 Pro Max Leather Case with MagS...                 0   \n",
       "47  Apple iPhone 13 mini Silicone Case with MagSaf...                 0   \n",
       "48  Apple iPhone 13 Leather Case with MagSafe, Gol...                 0   \n",
       "49                  SwitchEasy Glass iPhone X - White                 0   \n",
       "50                 CaseStudi iPhone X Case - SQ Black                 0   \n",
       "51  Apple iPhone 13 mini Silicone Case with MagSaf...                 0   \n",
       "52    Kajsa Lance Collection iPhone X Back Case - Red                 0   \n",
       "53  Kajsa Ninja Collection iPhone X Pocket Back Ca...                 0   \n",
       "54  Kajsa Ninja Collection iPhone X Pocket Back Ca...                 0   \n",
       "55        UNIQ Glacier Frost Xtreme iPhone X - Silver                 0   \n",
       "56  Apple iPhone 14 Silicone Case with MagSafe, Ch...                 0   \n",
       "57  Kajsa Lance Collection iPhone X Back Case - Olive                 0   \n",
       "58  Apple iPhone 14 Plus Leather Case with MagSafe...                 0   \n",
       "59                  SwitchEasy Glass iPhone X - Black                 0   \n",
       "\n",
       "   discount_prices combined_sold_count  \n",
       "0       20.799.000           4 Terjual  \n",
       "1       20.799.000         360 Terjual  \n",
       "2       20.799.000         401 Terjual  \n",
       "3       12.999.000          30 Terjual  \n",
       "4          899.000         150 Terjual  \n",
       "5          899.000          31 Terjual  \n",
       "6          899.000          30 Terjual  \n",
       "7        1.199.000           8 Terjual  \n",
       "8          899.000          52 Terjual  \n",
       "9        1.199.000          46 Terjual  \n",
       "10       1.149.000          25 Terjual  \n",
       "11         899.000          49 Terjual  \n",
       "12       1.199.000          12 Terjual  \n",
       "13         599.000          61 Terjual  \n",
       "14         899.000          31 Terjual  \n",
       "15         599.000          41 Terjual  \n",
       "16       1.149.000           8 Terjual  \n",
       "17       1.199.000          18 Terjual  \n",
       "18         169.000          24 Terjual  \n",
       "19         169.000          27 Terjual  \n",
       "20       1.199.000          15 Terjual  \n",
       "21       1.199.000          36 Terjual  \n",
       "22       1.149.000          41 Terjual  \n",
       "23       1.149.000          11 Terjual  \n",
       "24         949.000           7 Terjual  \n",
       "25       1.199.000           6 Terjual  \n",
       "26         899.000           5 Terjual  \n",
       "27         899.000           5 Terjual  \n",
       "28         899.000           9 Terjual  \n",
       "29         169.000           4 Terjual  \n",
       "30         899.000           8 Terjual  \n",
       "31       1.199.000          18 Terjual  \n",
       "32       1.149.000           7 Terjual  \n",
       "33         899.000           6 Terjual  \n",
       "34         599.000          13 Terjual  \n",
       "35         899.000          20 Terjual  \n",
       "36         349.000           3 Terjual  \n",
       "37         899.000          15 Terjual  \n",
       "38       1.149.000          11 Terjual  \n",
       "39         420.000           5 Terjual  \n",
       "40       1.199.000          16 Terjual  \n",
       "41       1.149.000           5 Terjual  \n",
       "42       1.199.000           9 Terjual  \n",
       "43         749.000           3 Terjual  \n",
       "44       1.149.000           3 Terjual  \n",
       "45         899.000           2 Terjual  \n",
       "46       1.199.000           4 Terjual  \n",
       "47         899.000           1 Terjual  \n",
       "48       1.149.000           3 Terjual  \n",
       "49         449.000           1 Terjual  \n",
       "50         420.000           3 Terjual  \n",
       "51         899.000           1 Terjual  \n",
       "52         169.000           1 Terjual  \n",
       "53         169.000           1 Terjual  \n",
       "54         169.000           1 Terjual  \n",
       "55         329.000          17 Terjual  \n",
       "56         899.000           2 Terjual  \n",
       "57         169.000                 N/A  \n",
       "58       1.199.000                 N/A  \n",
       "59         449.000                 N/A  "
      ]
     },
     "execution_count": 35,
     "metadata": {},
     "output_type": "execute_result"
    }
   ],
   "source": [
    "df"
   ]
  },
  {
   "cell_type": "code",
   "execution_count": 36,
   "id": "ffc96896",
   "metadata": {},
   "outputs": [],
   "source": [
    "df.to_csv('halaman_2_ibox.csv')"
   ]
  },
  {
   "cell_type": "code",
   "execution_count": null,
   "id": "83b6cecd",
   "metadata": {},
   "outputs": [],
   "source": []
  }
 ],
 "metadata": {
  "kernelspec": {
   "display_name": "Python 3 (ipykernel)",
   "language": "python",
   "name": "python3"
  },
  "language_info": {
   "codemirror_mode": {
    "name": "ipython",
    "version": 3
   },
   "file_extension": ".py",
   "mimetype": "text/x-python",
   "name": "python",
   "nbconvert_exporter": "python",
   "pygments_lexer": "ipython3",
   "version": "3.11.4"
  }
 },
 "nbformat": 4,
 "nbformat_minor": 5
}
